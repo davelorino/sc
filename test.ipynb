{
 "cells": [
  {
   "cell_type": "code",
   "execution_count": null,
   "id": "50e340ed",
   "metadata": {},
   "outputs": [],
   "source": [
    "import importlib\n",
    "import src.ri.get_data.transaction_pipeline as tp \n",
    "importlib.reload(tp)\n",
    "tp.create_weekly_transactions_master_table()"
   ]
  },
  {
   "cell_type": "code",
   "execution_count": 1,
   "id": "ccb26df4",
   "metadata": {},
   "outputs": [],
   "source": [
    "# JUPYTER CELL 0 — config & imports\n",
    "\n",
    "PROJECT = \"cart-dai-sandbox-nonprod-c3e7\"\n",
    "DATASET = \"dlorino\"\n",
    "\n",
    "TX_TABLE = f\"{PROJECT}.{DATASET}.sku_store_week_sales_base\"          # built by create_weekly_transactions_master_table()\n",
    "RANKED_TABLE = f\"{PROJECT}.{DATASET}.sku_store_week_sales_ranked\"   # built by create_weekly_transactions_master_table()\n",
    "MEDIA_TABLE = f\"{PROJECT}.{DATASET}.media_master_v1\"                # built by your media SQL once\n",
    "\n",
    "OUTPUT_DIR = \"d_outputs_nb\"   # notebook run outputs go here\n",
    "\n",
    "# If you rely on ADC, make sure GOOGLE_APPLICATION_CREDENTIALS is set in the notebook kernel environment.\n",
    "\n",
    "import os, pandas as pd\n",
    "os.makedirs(OUTPUT_DIR, exist_ok=True)\n"
   ]
  },
  {
   "cell_type": "markdown",
   "id": "64795c54",
   "metadata": {},
   "source": [
    "## Create Transactions Master Table"
   ]
  },
  {
   "cell_type": "code",
   "execution_count": null,
   "id": "7ea5a193",
   "metadata": {},
   "outputs": [],
   "source": [
    "# JUPYTER CELL 1 — build/refresh transactions master (BQ)\n",
    "\n",
    "from google.cloud import bigquery\n",
    "# NOTE: adjust the import path if your file is placed differently:\n",
    "from src.ri.get_data.transaction_pipeline import create_weekly_transactions_master_table\n",
    "\n",
    "client = bigquery.Client(project=PROJECT)\n",
    "_ = create_weekly_transactions_master_table(client=client)  # writes both *_pn2 and *_ranked\n",
    "print(\"Transactions master refreshed.\")\n"
   ]
  },
  {
   "cell_type": "markdown",
   "id": "4eb1101a",
   "metadata": {},
   "source": [
    "## Create Media Master Table "
   ]
  },
  {
   "cell_type": "code",
   "execution_count": 8,
   "id": "23ec6f8d",
   "metadata": {},
   "outputs": [
    {
     "name": "stderr",
     "output_type": "stream",
     "text": [
      "/opt/homebrew/lib/python3.11/site-packages/google/auth/_default.py:78: UserWarning: Your application has authenticated using end user credentials from Google Cloud SDK without a quota project. You might receive a \"quota exceeded\" or \"API not enabled\" error. See the following page for troubleshooting: https://cloud.google.com/docs/authentication/adc-troubleshooting/user-creds. \n",
      "  warnings.warn(_CLOUD_SDK_CREDENTIALS_WARNING)\n"
     ]
    },
    {
     "name": "stdout",
     "output_type": "stream",
     "text": [
      "Media master written to cart-dai-sandbox-nonprod-c3e7.dlorino.media_master_v1\n"
     ]
    }
   ],
   "source": [
    "# JUPYTER CELL 2 — build/refresh media master (BQ)\n",
    "\n",
    "from google.cloud import bigquery\n",
    "from pathlib import Path\n",
    "\n",
    "# If you've saved the SQL at 0_precompute/sql/media_master.sql, use that:\n",
    "sql_path = \"x_precompute/sql/media_master.sql\"\n",
    "\n",
    "if os.path.exists(sql_path):\n",
    "    sql = Path(sql_path).read_text()\n",
    "else:\n",
    "    # Fallback: paste your SQL string directly here if you haven't saved the file.\n",
    "    raise FileNotFoundError(\"Put your media_master.sql at x_precompute/sql/media_master.sql or paste it here as a string.\")\n",
    "\n",
    "sql = (sql\n",
    "       .replace(\"{{PROJECT}}\", PROJECT)\n",
    "       .replace(\"{{DATASET}}\", DATASET)\n",
    "       .replace(\"{{TABLE}}\", \"media_master_v1\"))\n",
    "\n",
    "client = bigquery.Client(project=PROJECT)\n",
    "client.query(sql).result()\n",
    "print(f\"Media master written to {MEDIA_TABLE}\")\n"
   ]
  },
  {
   "cell_type": "markdown",
   "id": "5071575d",
   "metadata": {},
   "source": [
    "## Load Media Campaigns"
   ]
  },
  {
   "cell_type": "code",
   "execution_count": 2,
   "id": "d21c4ac7",
   "metadata": {},
   "outputs": [
    {
     "name": "stderr",
     "output_type": "stream",
     "text": [
      "/opt/homebrew/lib/python3.11/site-packages/google/auth/_default.py:78: UserWarning: Your application has authenticated using end user credentials from Google Cloud SDK without a quota project. You might receive a \"quota exceeded\" or \"API not enabled\" error. See the following page for troubleshooting: https://cloud.google.com/docs/authentication/adc-troubleshooting/user-creds. \n",
      "  warnings.warn(_CLOUD_SDK_CREDENTIALS_WARNING)\n"
     ]
    },
    {
     "name": "stdout",
     "output_type": "stream",
     "text": [
      "17152 media rows loaded\n",
      "All campaigns: 6611\n",
      "Window campaigns (2024-02-01..2024-02-14): 5\n"
     ]
    }
   ],
   "source": [
    "# JUPYTER CELL 3 — load media master and select campaigns\n",
    "\n",
    "from google.cloud import bigquery\n",
    "from src.ri.get_data.media.parse_media_table import to_list_flexible\n",
    "\n",
    "client = bigquery.Client(project=PROJECT)\n",
    "\n",
    "media_sql = f\"\"\"\n",
    "SELECT booking_number, opportunity_name,\n",
    "       campaign_start_date, campaign_end_date,\n",
    "       media_start_date, media_end_date,\n",
    "       media_array, media_location_array, media_type_array,\n",
    "       sorted_store_list, sorted_sku_list,\n",
    "       campaign_week, campaign_week_split\n",
    "FROM `{MEDIA_TABLE}`\n",
    "ORDER BY booking_number, media_start_date, media_end_date\n",
    "\"\"\"\n",
    "media_df = client.query(media_sql).result().to_dataframe()\n",
    "\n",
    "# Coerce list-ish fields into Python lists (your utility can handle list or comma string)\n",
    "for col in [\"media_array\",\"media_location_array\",\"media_type_array\",\"sorted_store_list\",\"sorted_sku_list\"]:\n",
    "    media_df[col] = media_df[col].apply(to_list_flexible)\n",
    "\n",
    "print(len(media_df), \"media rows loaded\")\n",
    "\n",
    "# ---- A) ALL campaigns\n",
    "bookings_all = sorted(media_df[\"booking_number\"].astype(str).unique().tolist())\n",
    "print(\"All campaigns:\", len(bookings_all))\n",
    "\n",
    "# ---- B) window mode (adjust dates)\n",
    "START, END = \"2024-02-01\", \"2024-02-14\"\n",
    "mask = (pd.to_datetime(media_df[\"campaign_start_date\"]) >= pd.to_datetime(START)) & \\\n",
    "       (pd.to_datetime(media_df[\"campaign_end_date\"])   <= pd.to_datetime(END))\n",
    "bookings_window = sorted(media_df.loc[mask, \"booking_number\"].astype(str).unique().tolist())\n",
    "print(f\"Window campaigns ({START}..{END}):\", len(bookings_window))\n"
   ]
  },
  {
   "cell_type": "code",
   "execution_count": 3,
   "id": "01976a4c",
   "metadata": {},
   "outputs": [
    {
     "data": {
      "text/plain": [
       "['WOW20006579', 'WOW20006936', 'WOW20007663', 'WOW20008200', 'WOW20009671']"
      ]
     },
     "execution_count": 3,
     "metadata": {},
     "output_type": "execute_result"
    }
   ],
   "source": [
    "bookings_window"
   ]
  },
  {
   "cell_type": "markdown",
   "id": "fdf21a5a",
   "metadata": {},
   "source": [
    "## Forecast Pipeline"
   ]
  },
  {
   "cell_type": "code",
   "execution_count": 12,
   "id": "47585677",
   "metadata": {},
   "outputs": [
    {
     "name": "stdout",
     "output_type": "stream",
     "text": [
      "run_pipeline2 setup... "
     ]
    },
    {
     "name": "stderr",
     "output_type": "stream",
     "text": [
      "/opt/homebrew/lib/python3.11/site-packages/google/auth/_default.py:78: UserWarning: Your application has authenticated using end user credentials from Google Cloud SDK without a quota project. You might receive a \"quota exceeded\" or \"API not enabled\" error. See the following page for troubleshooting: https://cloud.google.com/docs/authentication/adc-troubleshooting/user-creds. \n",
      "  warnings.warn(_CLOUD_SDK_CREDENTIALS_WARNING)\n"
     ]
    },
    {
     "name": "stdout",
     "output_type": "stream",
     "text": [
      "Done!\n"
     ]
    },
    {
     "data": {
      "application/vnd.jupyter.widget-view+json": {
       "model_id": "0d1d8d6eafdd4b9bad18f70ee14f974a",
       "version_major": 2,
       "version_minor": 0
      },
      "text/plain": [
       "  0%|          | 0/5 [00:00<?, ?it/s]"
      ]
     },
     "metadata": {},
     "output_type": "display_data"
    },
    {
     "name": "stdout",
     "output_type": "stream",
     "text": [
      "booking_number WOW20006579\n",
      "Building weekly store calendar... Done!\n",
      "Entering fetch_campaign_tx_slice_bq2... Initiating...\n",
      "[Diag] Promo-SKU brand count: 5 | ['VILLAGE THEME', 'BLACKHAWK', 'GREATER UNION', 'PROPRIETARY', 'RED BALLOON']\n",
      "\n",
      "[Skip] booking WOW20006579: [SkipCampaign] Promo SKUs span 5 brand(s); require exactly 1. Found: ['VILLAGE THEME', 'BLACKHAWK', 'GREATER UNION', 'PROPRIETARY', 'RED BALLOON']\n",
      "booking_number WOW20006936\n",
      "Building weekly store calendar... Done!\n",
      "Entering fetch_campaign_tx_slice_bq2... Initiating...\n",
      "[Diag] Promo-SKU brand count: 1 | ['Wicked Sister']\n",
      "Getting universe ids... Done!\n",
      "[Preflight] SKUs (16): ['170483', '503718', '276711', '756098', '243868', '872204', '170475', '793015', '208020', '209603', '244468', '94368', '208865', '169531', '793013', '793002']\n",
      "[Preflight] Stores (84; all_stores=False)\n",
      "Begin get_transaction_data_by_scope_fast2_cohort_total ... Done!\n"
     ]
    },
    {
     "ename": "KeyError",
     "evalue": "\"None of [Index(['product_id', 'brand', 'category', 'subcategory'], dtype='object')] are in the [columns]\"",
     "output_type": "error",
     "traceback": [
      "\u001b[0;31m---------------------------------------------------------------------------\u001b[0m",
      "\u001b[0;31mKeyError\u001b[0m                                  Traceback (most recent call last)",
      "Cell \u001b[0;32mIn[12], line 22\u001b[0m\n\u001b[1;32m     19\u001b[0m \u001b[38;5;66;03m# Subset media_df to the campaigns we want (this avoids extra work inside run_pipeline)\u001b[39;00m\n\u001b[1;32m     20\u001b[0m media_sel \u001b[38;5;241m=\u001b[39m media_df[media_df[\u001b[38;5;124m\"\u001b[39m\u001b[38;5;124mbooking_number\u001b[39m\u001b[38;5;124m\"\u001b[39m]\u001b[38;5;241m.\u001b[39mastype(\u001b[38;5;28mstr\u001b[39m)\u001b[38;5;241m.\u001b[39misin(\u001b[38;5;28mset\u001b[39m(BOOKINGS))]\u001b[38;5;241m.\u001b[39mcopy()\n\u001b[0;32m---> 22\u001b[0m \u001b[43mmedia_module\u001b[49m\u001b[38;5;241;43m.\u001b[39;49m\u001b[43mrun_pipeline2\u001b[49m\u001b[43m(\u001b[49m\n\u001b[1;32m     23\u001b[0m \u001b[43m    \u001b[49m\u001b[43mmedia\u001b[49m\u001b[38;5;241;43m=\u001b[39;49m\u001b[43mmedia_sel\u001b[49m\u001b[43m,\u001b[49m\n\u001b[1;32m     24\u001b[0m \u001b[43m    \u001b[49m\u001b[43mtx_table\u001b[49m\u001b[38;5;241;43m=\u001b[39;49m\u001b[43mTX_TABLE\u001b[49m\u001b[43m,\u001b[49m\u001b[43m        \u001b[49m\u001b[38;5;66;43;03m# BQ live slicing (recommended)\u001b[39;49;00m\n\u001b[1;32m     25\u001b[0m \u001b[43m    \u001b[49m\u001b[43mtx_parquet\u001b[49m\u001b[38;5;241;43m=\u001b[39;49m\u001b[38;5;28;43;01mNone\u001b[39;49;00m\u001b[43m,\u001b[49m\u001b[43m          \u001b[49m\u001b[38;5;66;43;03m# leave as None when using tx_table\u001b[39;49;00m\n\u001b[1;32m     26\u001b[0m \u001b[43m    \u001b[49m\u001b[43mproject\u001b[49m\u001b[38;5;241;43m=\u001b[39;49m\u001b[43mPROJECT\u001b[49m\u001b[43m,\u001b[49m\n\u001b[1;32m     27\u001b[0m \u001b[43m    \u001b[49m\u001b[43moutdir\u001b[49m\u001b[38;5;241;43m=\u001b[39;49m\u001b[43mOUTPUT_DIR\u001b[49m\u001b[43m,\u001b[49m\n\u001b[1;32m     28\u001b[0m \u001b[43m    \u001b[49m\u001b[43mmetrics\u001b[49m\u001b[38;5;241;43m=\u001b[39;49m\u001b[43mMETRICS\u001b[49m\u001b[43m,\u001b[49m\n\u001b[1;32m     29\u001b[0m \u001b[43m    \u001b[49m\u001b[43mgrains\u001b[49m\u001b[38;5;241;43m=\u001b[39;49m\u001b[43mGRAINS\u001b[49m\n\u001b[1;32m     30\u001b[0m \u001b[43m)\u001b[49m\n\u001b[1;32m     32\u001b[0m \u001b[38;5;28mprint\u001b[39m(\u001b[38;5;124m\"\u001b[39m\u001b[38;5;124mPipeline run complete.\u001b[39m\u001b[38;5;124m\"\u001b[39m)\n",
      "File \u001b[0;32m~/Documents/SyntheticControlProd/x_scripts/run_from_media_table.py:827\u001b[0m, in \u001b[0;36mrun_pipeline2\u001b[0;34m(media, tx_table, tx_parquet, project, outdir, metrics, grains)\u001b[0m\n\u001b[1;32m    824\u001b[0m     \u001b[38;5;28;01mcontinue\u001b[39;00m\n\u001b[1;32m    826\u001b[0m \u001b[38;5;66;03m# product dimension for registry\u001b[39;00m\n\u001b[0;32m--> 827\u001b[0m product_dim \u001b[38;5;241m=\u001b[39m (\u001b[43mtx_slice\u001b[49m\u001b[38;5;241;43m.\u001b[39;49m\u001b[43mrename\u001b[49m\u001b[43m(\u001b[49m\u001b[43mcolumns\u001b[49m\u001b[38;5;241;43m=\u001b[39;49m\u001b[43m{\u001b[49m\n\u001b[1;32m    828\u001b[0m \u001b[43m    \u001b[49m\u001b[38;5;124;43m\"\u001b[39;49m\u001b[38;5;124;43mproduct_number\u001b[39;49m\u001b[38;5;124;43m\"\u001b[39;49m\u001b[43m:\u001b[49m\u001b[38;5;124;43m\"\u001b[39;49m\u001b[38;5;124;43mproduct_id\u001b[39;49m\u001b[38;5;124;43m\"\u001b[39;49m\u001b[43m,\u001b[49m\n\u001b[1;32m    829\u001b[0m \u001b[43m    \u001b[49m\u001b[38;5;124;43m\"\u001b[39;49m\u001b[38;5;124;43mBrandDescription\u001b[39;49m\u001b[38;5;124;43m\"\u001b[39;49m\u001b[43m:\u001b[49m\u001b[38;5;124;43m\"\u001b[39;49m\u001b[38;5;124;43mbrand\u001b[39;49m\u001b[38;5;124;43m\"\u001b[39;49m\u001b[43m,\u001b[49m\n\u001b[1;32m    830\u001b[0m \u001b[43m    \u001b[49m\u001b[38;5;124;43m\"\u001b[39;49m\u001b[38;5;124;43mCategoryDescription\u001b[39;49m\u001b[38;5;124;43m\"\u001b[39;49m\u001b[43m:\u001b[49m\u001b[38;5;124;43m\"\u001b[39;49m\u001b[38;5;124;43mcategory\u001b[39;49m\u001b[38;5;124;43m\"\u001b[39;49m\u001b[43m,\u001b[49m\n\u001b[1;32m    831\u001b[0m \u001b[43m    \u001b[49m\u001b[38;5;124;43m\"\u001b[39;49m\u001b[38;5;124;43mSubCategoryDescription\u001b[39;49m\u001b[38;5;124;43m\"\u001b[39;49m\u001b[43m:\u001b[49m\u001b[38;5;124;43m\"\u001b[39;49m\u001b[38;5;124;43msubcategory\u001b[39;49m\u001b[38;5;124;43m\"\u001b[39;49m\n\u001b[1;32m    832\u001b[0m \u001b[43m\u001b[49m\u001b[43m}\u001b[49m\u001b[43m)\u001b[49m\u001b[43m[\u001b[49m\u001b[43m[\u001b[49m\u001b[38;5;124;43m\"\u001b[39;49m\u001b[38;5;124;43mproduct_id\u001b[39;49m\u001b[38;5;124;43m\"\u001b[39;49m\u001b[43m,\u001b[49m\u001b[38;5;124;43m\"\u001b[39;49m\u001b[38;5;124;43mbrand\u001b[39;49m\u001b[38;5;124;43m\"\u001b[39;49m\u001b[43m,\u001b[49m\u001b[38;5;124;43m\"\u001b[39;49m\u001b[38;5;124;43mcategory\u001b[39;49m\u001b[38;5;124;43m\"\u001b[39;49m\u001b[43m,\u001b[49m\u001b[38;5;124;43m\"\u001b[39;49m\u001b[38;5;124;43msubcategory\u001b[39;49m\u001b[38;5;124;43m\"\u001b[39;49m\u001b[43m]\u001b[49m\u001b[43m]\u001b[49m\u001b[38;5;241m.\u001b[39mdrop_duplicates())\n\u001b[1;32m    834\u001b[0m \u001b[38;5;28;01mfrom\u001b[39;00m \u001b[38;5;21;01msrc\u001b[39;00m\u001b[38;5;21;01m.\u001b[39;00m\u001b[38;5;21;01mri\u001b[39;00m\u001b[38;5;21;01m.\u001b[39;00m\u001b[38;5;21;01mmodel\u001b[39;00m\u001b[38;5;21;01m.\u001b[39;00m\u001b[38;5;21;01morchestration\u001b[39;00m\u001b[38;5;21;01m.\u001b[39;00m\u001b[38;5;21;01mbuild_grids_v3\u001b[39;00m \u001b[38;5;28;01mimport\u001b[39;00m _make_registry\n\u001b[1;32m    835\u001b[0m registry \u001b[38;5;241m=\u001b[39m _make_registry(promo_skus, product_dim)\n",
      "File \u001b[0;32m/opt/homebrew/lib/python3.11/site-packages/pandas/core/frame.py:3767\u001b[0m, in \u001b[0;36mDataFrame.__getitem__\u001b[0;34m(self, key)\u001b[0m\n\u001b[1;32m   3765\u001b[0m     \u001b[38;5;28;01mif\u001b[39;00m is_iterator(key):\n\u001b[1;32m   3766\u001b[0m         key \u001b[38;5;241m=\u001b[39m \u001b[38;5;28mlist\u001b[39m(key)\n\u001b[0;32m-> 3767\u001b[0m     indexer \u001b[38;5;241m=\u001b[39m \u001b[38;5;28;43mself\u001b[39;49m\u001b[38;5;241;43m.\u001b[39;49m\u001b[43mcolumns\u001b[49m\u001b[38;5;241;43m.\u001b[39;49m\u001b[43m_get_indexer_strict\u001b[49m\u001b[43m(\u001b[49m\u001b[43mkey\u001b[49m\u001b[43m,\u001b[49m\u001b[43m \u001b[49m\u001b[38;5;124;43m\"\u001b[39;49m\u001b[38;5;124;43mcolumns\u001b[39;49m\u001b[38;5;124;43m\"\u001b[39;49m\u001b[43m)\u001b[49m[\u001b[38;5;241m1\u001b[39m]\n\u001b[1;32m   3769\u001b[0m \u001b[38;5;66;03m# take() does not accept boolean indexers\u001b[39;00m\n\u001b[1;32m   3770\u001b[0m \u001b[38;5;28;01mif\u001b[39;00m \u001b[38;5;28mgetattr\u001b[39m(indexer, \u001b[38;5;124m\"\u001b[39m\u001b[38;5;124mdtype\u001b[39m\u001b[38;5;124m\"\u001b[39m, \u001b[38;5;28;01mNone\u001b[39;00m) \u001b[38;5;241m==\u001b[39m \u001b[38;5;28mbool\u001b[39m:\n",
      "File \u001b[0;32m/opt/homebrew/lib/python3.11/site-packages/pandas/core/indexes/base.py:5877\u001b[0m, in \u001b[0;36mIndex._get_indexer_strict\u001b[0;34m(self, key, axis_name)\u001b[0m\n\u001b[1;32m   5874\u001b[0m \u001b[38;5;28;01melse\u001b[39;00m:\n\u001b[1;32m   5875\u001b[0m     keyarr, indexer, new_indexer \u001b[38;5;241m=\u001b[39m \u001b[38;5;28mself\u001b[39m\u001b[38;5;241m.\u001b[39m_reindex_non_unique(keyarr)\n\u001b[0;32m-> 5877\u001b[0m \u001b[38;5;28;43mself\u001b[39;49m\u001b[38;5;241;43m.\u001b[39;49m\u001b[43m_raise_if_missing\u001b[49m\u001b[43m(\u001b[49m\u001b[43mkeyarr\u001b[49m\u001b[43m,\u001b[49m\u001b[43m \u001b[49m\u001b[43mindexer\u001b[49m\u001b[43m,\u001b[49m\u001b[43m \u001b[49m\u001b[43maxis_name\u001b[49m\u001b[43m)\u001b[49m\n\u001b[1;32m   5879\u001b[0m keyarr \u001b[38;5;241m=\u001b[39m \u001b[38;5;28mself\u001b[39m\u001b[38;5;241m.\u001b[39mtake(indexer)\n\u001b[1;32m   5880\u001b[0m \u001b[38;5;28;01mif\u001b[39;00m \u001b[38;5;28misinstance\u001b[39m(key, Index):\n\u001b[1;32m   5881\u001b[0m     \u001b[38;5;66;03m# GH 42790 - Preserve name from an Index\u001b[39;00m\n",
      "File \u001b[0;32m/opt/homebrew/lib/python3.11/site-packages/pandas/core/indexes/base.py:5938\u001b[0m, in \u001b[0;36mIndex._raise_if_missing\u001b[0;34m(self, key, indexer, axis_name)\u001b[0m\n\u001b[1;32m   5936\u001b[0m     \u001b[38;5;28;01mif\u001b[39;00m use_interval_msg:\n\u001b[1;32m   5937\u001b[0m         key \u001b[38;5;241m=\u001b[39m \u001b[38;5;28mlist\u001b[39m(key)\n\u001b[0;32m-> 5938\u001b[0m     \u001b[38;5;28;01mraise\u001b[39;00m \u001b[38;5;167;01mKeyError\u001b[39;00m(\u001b[38;5;124mf\u001b[39m\u001b[38;5;124m\"\u001b[39m\u001b[38;5;124mNone of [\u001b[39m\u001b[38;5;132;01m{\u001b[39;00mkey\u001b[38;5;132;01m}\u001b[39;00m\u001b[38;5;124m] are in the [\u001b[39m\u001b[38;5;132;01m{\u001b[39;00maxis_name\u001b[38;5;132;01m}\u001b[39;00m\u001b[38;5;124m]\u001b[39m\u001b[38;5;124m\"\u001b[39m)\n\u001b[1;32m   5940\u001b[0m not_found \u001b[38;5;241m=\u001b[39m \u001b[38;5;28mlist\u001b[39m(ensure_index(key)[missing_mask\u001b[38;5;241m.\u001b[39mnonzero()[\u001b[38;5;241m0\u001b[39m]]\u001b[38;5;241m.\u001b[39munique())\n\u001b[1;32m   5941\u001b[0m \u001b[38;5;28;01mraise\u001b[39;00m \u001b[38;5;167;01mKeyError\u001b[39;00m(\u001b[38;5;124mf\u001b[39m\u001b[38;5;124m\"\u001b[39m\u001b[38;5;132;01m{\u001b[39;00mnot_found\u001b[38;5;132;01m}\u001b[39;00m\u001b[38;5;124m not in index\u001b[39m\u001b[38;5;124m\"\u001b[39m)\n",
      "\u001b[0;31mKeyError\u001b[0m: \"None of [Index(['product_id', 'brand', 'category', 'subcategory'], dtype='object')] are in the [columns]\""
     ]
    }
   ],
   "source": [
    "# JUPYTER CELL 4 — run the pipeline (ALL or WINDOW)\n",
    "# Choose one:\n",
    "BOOKINGS = bookings_window      # run a window\n",
    "# BOOKINGS = bookings_all       # or run everything\n",
    "\n",
    "# Choose metrics and grains (you can pass [\"all\"] to use the defaults inside the runner)\n",
    "METRICS = [\"all\"] #[\"sales\",\"shoppers\", \"new_to_brand_sales\",\"new_to_brand_shoppers\"]\n",
    "GRAINS  = [\"brand_category\",\"brand_subcategory\",\"brand\",\"category\",\"subcategory\",\"sku\"]\n",
    "\n",
    "# We import the function that the CLI script uses under the hood.\n",
    "import importlib\n",
    "import x_scripts.run_from_media_table as media_module \n",
    "import src.ri.get_data.transaction_pipeline as tx_module \n",
    "import src.ri.model.orchestration.build_grids_v3 as grids_module\n",
    "importlib.reload(tx_module)\n",
    "importlib.reload(media_module)\n",
    "importlib.reload(grids_module)\n",
    "\n",
    "# Subset media_df to the campaigns we want (this avoids extra work inside run_pipeline)\n",
    "media_sel = media_df[media_df[\"booking_number\"].astype(str).isin(set(BOOKINGS))].copy()\n",
    "\n",
    "media_module.run_pipeline2(\n",
    "    media=media_sel,\n",
    "    tx_table=TX_TABLE,        # BQ live slicing (recommended)\n",
    "    tx_parquet=None,          # leave as None when using tx_table\n",
    "    project=PROJECT,\n",
    "    outdir=OUTPUT_DIR,\n",
    "    metrics=METRICS,\n",
    "    grains=GRAINS\n",
    ")\n",
    "\n",
    "print(\"Pipeline run complete.\")\n"
   ]
  },
  {
   "cell_type": "markdown",
   "id": "1c491ae5",
   "metadata": {},
   "source": []
  }
 ],
 "metadata": {
  "kernelspec": {
   "display_name": "Python 3",
   "language": "python",
   "name": "python3"
  },
  "language_info": {
   "codemirror_mode": {
    "name": "ipython",
    "version": 3
   },
   "file_extension": ".py",
   "mimetype": "text/x-python",
   "name": "python",
   "nbconvert_exporter": "python",
   "pygments_lexer": "ipython3",
   "version": "3.11.12"
  }
 },
 "nbformat": 4,
 "nbformat_minor": 5
}
